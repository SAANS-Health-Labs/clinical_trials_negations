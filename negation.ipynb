{
 "cells": [
  {
   "cell_type": "markdown",
   "metadata": {},
   "source": [
    "# Overview\n",
    "In this notebook, I used negex to detect negated entities. Negex was developed in early 2000', but it continues to be the leading package for negation detection. It was espcially developed to handle clinical text. We compare negex with stanza by using the spacy_stanza wrapper. Together, they will identify medical entities, and tell us whether each entity is negated."
   ]
  },
  {
   "cell_type": "markdown",
   "metadata": {},
   "source": [
    "# Use environment: transformer"
   ]
  },
  {
   "cell_type": "code",
   "execution_count": 1,
   "metadata": {},
   "outputs": [
    {
     "name": "stdout",
     "output_type": "stream",
     "text": [
      "Last modified by Xiaoqing: 211203\n"
     ]
    }
   ],
   "source": [
    "from datetime import datetime\n",
    "date = datetime.today().strftime('%y%m%d')\n",
    "print ('Last modified by Xiaoqing: ' + date)"
   ]
  },
  {
   "cell_type": "markdown",
   "metadata": {},
   "source": [
    "# Installation"
   ]
  },
  {
   "cell_type": "code",
   "execution_count": 2,
   "metadata": {},
   "outputs": [],
   "source": [
    "# import sys\n",
    "# !{sys.executable} -m pip install spacy\n",
    "# !{sys.executable} -m pip install negspacy\n",
    "# !{sys.executable} -m pip install spacy_stanza #This package wraps the Stanza (formerly StanfordNLP) library, so you can use Stanford's models in a spaCy pipeline."
   ]
  },
  {
   "cell_type": "code",
   "execution_count": 3,
   "metadata": {},
   "outputs": [],
   "source": [
    "import spacy\n",
    "import stanza\n",
    "import spacy_stanza # this package wraps the Stanza (formerly StanfordNLP) library, so you can use Stanford's models in a spaCy pipeline.\n",
    "from negspacy.negation import Negex\n",
    "from negspacy.termsets import termset # to modify negation terms\n",
    "import pandas as pd\n",
    "\n"
   ]
  },
  {
   "cell_type": "markdown",
   "metadata": {},
   "source": [
    "# Set up pipeline, add customized terms to the default list of terms"
   ]
  },
  {
   "cell_type": "code",
   "execution_count": 22,
   "metadata": {},
   "outputs": [
    {
     "name": "stderr",
     "output_type": "stream",
     "text": [
      "2021-12-03 12:43:23 INFO: Loading these models for language: en (English):\n",
      "=======================\n",
      "| Processor | Package |\n",
      "-----------------------\n",
      "| tokenize  | mimic   |\n",
      "| pos       | mimic   |\n",
      "| lemma     | mimic   |\n",
      "| depparse  | mimic   |\n",
      "| ner       | i2b2    |\n",
      "=======================\n",
      "\n",
      "2021-12-03 12:43:23 INFO: Use device: cpu\n",
      "2021-12-03 12:43:23 INFO: Loading: tokenize\n",
      "2021-12-03 12:43:23 INFO: Loading: pos\n",
      "2021-12-03 12:43:23 INFO: Loading: lemma\n",
      "2021-12-03 12:43:23 INFO: Loading: depparse\n",
      "2021-12-03 12:43:23 INFO: Loading: ner\n",
      "2021-12-03 12:43:24 INFO: Done loading processors!\n"
     ]
    }
   ],
   "source": [
    "# download and initialize a mimic pipeline with an i2b2 NER model\n",
    "# stanza.download('en', package='mimic', processors={'ner': 'i2b2'})\n",
    "nlp = spacy_stanza.load_pipeline('en', package='mimic', processors={'ner': 'i2b2'})\n",
    "\n",
    "ts = termset(\"en_clinical\")\n",
    "# customize the term list by adding more negation terms\n",
    "ts.add_patterns({\n",
    "            'preceding_negations': ['other than','except for','except','with the exception of',\n",
    "                                    'excluding','lack of','contraindication','contraindicated','interfere with'],\n",
    "            'following_negations':['negative']\n",
    "        })\n",
    "# print(ts.get_patterns()) # view negation terms in use"
   ]
  },
  {
   "cell_type": "code",
   "execution_count": 23,
   "metadata": {},
   "outputs": [
    {
     "data": {
      "text/plain": [
       "<negspacy.negation.Negex at 0x7ffdb000afa0>"
      ]
     },
     "execution_count": 23,
     "metadata": {},
     "output_type": "execute_result"
    }
   ],
   "source": [
    "nlp.add_pipe(\"negex\", config={\"ent_types\":[\"PROBLEM\",\"TEST\",'TREATMENT']}) # let negex know what entities we are extracting\n"
   ]
  },
  {
   "cell_type": "markdown",
   "metadata": {},
   "source": [
    "# Good examples"
   ]
  },
  {
   "cell_type": "code",
   "execution_count": 6,
   "metadata": {},
   "outputs": [
    {
     "name": "stdout",
     "output_type": "stream",
     "text": [
      "a fever False\n",
      "headache True\n"
     ]
    }
   ],
   "source": [
    "doc = nlp('patient has a fever, but no headache')\n",
    "\n",
    "for e in doc.ents:\n",
    "\tprint(e.text, e._.negex)"
   ]
  },
  {
   "cell_type": "code",
   "execution_count": 26,
   "metadata": {},
   "outputs": [
    {
     "name": "stdout",
     "output_type": "stream",
     "text": [
      "diabetes True\n"
     ]
    }
   ],
   "source": [
    "doc = nlp('No history of diabetes')\n",
    "\n",
    "for e in doc.ents:\n",
    "\tprint(e.text, e._.negex)"
   ]
  },
  {
   "cell_type": "code",
   "execution_count": 20,
   "metadata": {},
   "outputs": [
    {
     "name": "stdout",
     "output_type": "stream",
     "text": [
      "DUPIXENT True\n"
     ]
    }
   ],
   "source": [
    "doc = nlp('Patients who have a contraindication to DUPIXENT')\n",
    "\n",
    "for e in doc.ents:\n",
    "\tprint(e.text, e._.negex)"
   ]
  },
  {
   "cell_type": "code",
   "execution_count": 24,
   "metadata": {},
   "outputs": [
    {
     "name": "stdout",
     "output_type": "stream",
     "text": [
      "urine pregnancy test True\n"
     ]
    }
   ],
   "source": [
    "doc = nlp('In the case of women of childbearing age, urine pregnancy test must be negative')\n",
    "\n",
    "for e in doc.ents:\n",
    "\tprint(e.text, e._.negex)"
   ]
  },
  {
   "cell_type": "code",
   "execution_count": 25,
   "metadata": {},
   "outputs": [
    {
     "name": "stdout",
     "output_type": "stream",
     "text": [
      "ongoing inflammatory, autoimmune False\n",
      "painful musculoskeletal diseases False\n",
      "Sjogrens syndrome True\n",
      "fibromyalgia True\n",
      "the RA assessments True\n"
     ]
    }
   ],
   "source": [
    "doc = nlp('History of or ongoing inflammatory, autoimmune, or painful musculoskeletal diseases (except for Sjogrens syndrome or fibromyalgia) which could interfere with the RA assessments as determined by the Investigator')\n",
    "\n",
    "for e in doc.ents:\n",
    "\tprint(e.text, e._.negex)"
   ]
  },
  {
   "cell_type": "code",
   "execution_count": 16,
   "metadata": {},
   "outputs": [
    {
     "name": "stdout",
     "output_type": "stream",
     "text": [
      "autoimmune disorders False\n",
      "T1DM True\n",
      "a stable thyroid disorder True\n",
      "thyroxin True\n"
     ]
    }
   ],
   "source": [
    "doc = nlp('History of autoimmune disorders other than T1DM as judged clinically relevant by the Investigator (obtained by patient history), except a stable thyroid disorder treated with a stable dose of thyroxin.')\n",
    "\n",
    "for e in doc.ents:\n",
    "\tprint(e.text, e._.negex)"
   ]
  },
  {
   "cell_type": "markdown",
   "metadata": {},
   "source": [
    "# Note to future: if a term is negated under exclusion criteria, we delete them"
   ]
  },
  {
   "cell_type": "markdown",
   "metadata": {},
   "source": [
    "# References\n",
    "Negation\n",
    "* https://github.com/jenojp/negspacy\n",
    "* https://medium.com/@MansiKukreja/clinical-text-negation-handling-using-negspacy-and-scispacy-233ce69ab2ac\n",
    "* https://towardsdatascience.com/clinical-notes-the-negative-story-e1140dd275c7\n",
    "* https://www.youtube.com/watch?v=IiD3YZkkCmE&t=2210s\n",
    "(see 36:41 of the video)\n",
    "\n",
    "Negex: how to add and delete custom negation terms\n",
    "* https://pypi.org/project/negspacy/\n"
   ]
  }
 ],
 "metadata": {
  "kernelspec": {
   "display_name": "Python 3 (ipykernel)",
   "language": "python",
   "name": "python3"
  },
  "language_info": {
   "codemirror_mode": {
    "name": "ipython",
    "version": 3
   },
   "file_extension": ".py",
   "mimetype": "text/x-python",
   "name": "python",
   "nbconvert_exporter": "python",
   "pygments_lexer": "ipython3",
   "version": "3.8.12"
  },
  "toc": {
   "base_numbering": 1,
   "nav_menu": {},
   "number_sections": true,
   "sideBar": true,
   "skip_h1_title": false,
   "title_cell": "Table of Contents",
   "title_sidebar": "Contents",
   "toc_cell": false,
   "toc_position": {},
   "toc_section_display": true,
   "toc_window_display": false
  }
 },
 "nbformat": 4,
 "nbformat_minor": 2
}
